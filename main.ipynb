{
 "cells": [
  {
   "cell_type": "code",
   "execution_count": 15,
   "metadata": {},
   "outputs": [
    {
     "name": "stdout",
     "output_type": "stream",
     "text": [
      "The autoreload extension is already loaded. To reload it, use:\n",
      "  %reload_ext autoreload\n"
     ]
    }
   ],
   "source": [
    "%load_ext autoreload\n",
    "%autoreload 2\n",
    "%matplotlib inline\n",
    "import torch\n",
    "from IPython.display import Image  # for displaying images\n",
    "import os \n",
    "import random\n",
    "from xml.dom import minidom\n",
    "from tqdm import tqdm\n",
    "import numpy as np\n",
    "from ultralytics import YOLO\n",
    "from utils import *\n",
    "import cv2"
   ]
  },
  {
   "cell_type": "code",
   "execution_count": 14,
   "metadata": {},
   "outputs": [],
   "source": [
    "#model = YOLO('yolov8n.yaml')\n",
    "model = YOLO('yolov8n.pt') "
   ]
  },
  {
   "cell_type": "code",
   "execution_count": 19,
   "metadata": {},
   "outputs": [
    {
     "name": "stderr",
     "output_type": "stream",
     "text": [
      "New https://pypi.org/project/ultralytics/8.0.136 available 😃 Update with 'pip install -U ultralytics'\n",
      "Ultralytics YOLOv8.0.59 🚀 Python-3.10.10 torch-2.0.0 CPU\n",
      "\u001b[34m\u001b[1myolo/engine/trainer: \u001b[0mtask=detect, mode=train, model=runs/detect/train11/weights/best.pt, data=datasets/weed2/arguments.yaml, epochs=10, patience=50, batch=16, imgsz=640, save=True, save_period=-1, cache=False, device=None, workers=8, project=None, name=None, exist_ok=False, pretrained=False, optimizer=SGD, verbose=True, seed=0, deterministic=True, single_cls=False, image_weights=False, rect=False, cos_lr=False, close_mosaic=10, resume=False, amp=True, overlap_mask=True, mask_ratio=4, dropout=0.0, val=True, split=val, save_json=False, save_hybrid=False, conf=None, iou=0.2, max_det=300, half=False, dnn=False, plots=True, source=None, show=False, save_txt=False, save_conf=False, save_crop=False, hide_labels=False, hide_conf=False, vid_stride=1, line_thickness=3, visualize=False, augment=False, agnostic_nms=False, classes=None, retina_masks=False, boxes=True, format=torchscript, keras=False, optimize=False, int8=False, dynamic=False, simplify=False, opset=None, workspace=4, nms=False, lr0=0.01, lrf=0.2, momentum=0.93, weight_decay=0.0005, warmup_epochs=3.0, warmup_momentum=0.8, warmup_bias_lr=0.1, box=0.05, cls=0.5, dfl=1.5, fl_gamma=0.0, label_smoothing=0.0, nbs=64, hsv_h=0.015, hsv_s=0.7, hsv_v=0.4, degrees=0.0, translate=0.1, scale=0.5, shear=0.0, perspective=0.0, flipud=0.0, fliplr=0.5, mosaic=1.0, mixup=0.0, copy_paste=0.0, cfg=None, v5loader=False, tracker=botsort.yaml, save_dir=runs/detect/train16\n",
      "\n",
      "                   from  n    params  module                                       arguments                     \n",
      "  0                  -1  1       928  ultralytics.nn.modules.Conv                  [3, 32, 3, 2]                 \n",
      "  1                  -1  1     18560  ultralytics.nn.modules.Conv                  [32, 64, 3, 2]                \n",
      "  2                  -1  1     29056  ultralytics.nn.modules.C2f                   [64, 64, 1, True]             \n",
      "  3                  -1  1     73984  ultralytics.nn.modules.Conv                  [64, 128, 3, 2]               \n",
      "  4                  -1  2    197632  ultralytics.nn.modules.C2f                   [128, 128, 2, True]           \n",
      "  5                  -1  1    295424  ultralytics.nn.modules.Conv                  [128, 256, 3, 2]              \n",
      "  6                  -1  2    788480  ultralytics.nn.modules.C2f                   [256, 256, 2, True]           \n",
      "  7                  -1  1   1180672  ultralytics.nn.modules.Conv                  [256, 512, 3, 2]              \n",
      "  8                  -1  1   1838080  ultralytics.nn.modules.C2f                   [512, 512, 1, True]           \n",
      "  9                  -1  1    656896  ultralytics.nn.modules.SPPF                  [512, 512, 5]                 \n",
      " 10                  -1  1         0  torch.nn.modules.upsampling.Upsample         [None, 2, 'nearest']          \n",
      " 11             [-1, 6]  1         0  ultralytics.nn.modules.Concat                [1]                           \n",
      " 12                  -1  1    591360  ultralytics.nn.modules.C2f                   [768, 256, 1]                 \n",
      " 13                  -1  1         0  torch.nn.modules.upsampling.Upsample         [None, 2, 'nearest']          \n",
      " 14             [-1, 4]  1         0  ultralytics.nn.modules.Concat                [1]                           \n",
      " 15                  -1  1    148224  ultralytics.nn.modules.C2f                   [384, 128, 1]                 \n",
      " 16                  -1  1    147712  ultralytics.nn.modules.Conv                  [128, 128, 3, 2]              \n",
      " 17            [-1, 12]  1         0  ultralytics.nn.modules.Concat                [1]                           \n",
      " 18                  -1  1    493056  ultralytics.nn.modules.C2f                   [384, 256, 1]                 \n",
      " 19                  -1  1    590336  ultralytics.nn.modules.Conv                  [256, 256, 3, 2]              \n",
      " 20             [-1, 9]  1         0  ultralytics.nn.modules.Concat                [1]                           \n",
      " 21                  -1  1   1969152  ultralytics.nn.modules.C2f                   [768, 512, 1]                 \n",
      " 22        [15, 18, 21]  1   2116822  ultralytics.nn.modules.Detect                [2, [128, 256, 512]]          \n",
      "Model summary: 225 layers, 11136374 parameters, 11136358 gradients, 28.6 GFLOPs\n",
      "\n",
      "Transferred 355/355 items from pretrained weights\n",
      "\u001b[34m\u001b[1moptimizer:\u001b[0m SGD(lr=0.01) with parameter groups 57 weight(decay=0.0), 64 weight(decay=0.0005), 63 bias\n",
      "\u001b[34m\u001b[1mtrain: \u001b[0mScanning /Users/xxd/Documents/Course/CS596E/YOLOv8/datasets/weed2/labels/train.cache... 1198 images, 0 backgrounds, 0 corrupt: 100%|██████████| 1198/1198 [00:00<?, ?it/s]\n",
      "\u001b[34m\u001b[1mval: \u001b[0mScanning /Users/xxd/Documents/Course/CS596E/YOLOv8/datasets/weed2/labels/val.cache... 102 images, 0 backgrounds, 0 corrupt: 100%|██████████| 102/102 [00:00<?, ?it/s]\n",
      "Plotting labels to runs/detect/train16/labels.jpg... \n",
      "Image sizes 640 train, 640 val\n",
      "Using 0 dataloader workers\n",
      "Logging results to \u001b[1mruns/detect/train16\u001b[0m\n",
      "Starting training for 10 epochs...\n",
      "Closing dataloader mosaic\n",
      "\n",
      "      Epoch    GPU_mem   box_loss   cls_loss   dfl_loss  Instances       Size\n",
      "       1/10         0G   0.006904     0.7405      1.474         16        640: 100%|██████████| 75/75 [21:24<00:00, 17.13s/it]\n",
      "                 Class     Images  Instances      Box(P          R      mAP50  mAP50-95): 100%|██████████| 4/4 [00:33<00:00,  8.45s/it]\n",
      "                   all        102        175      0.781      0.823        0.8      0.484\n",
      "\n",
      "      Epoch    GPU_mem   box_loss   cls_loss   dfl_loss  Instances       Size\n",
      "       2/10         0G   0.006983     0.7537      1.469         17        640: 100%|██████████| 75/75 [18:59<00:00, 15.19s/it]\n",
      "                 Class     Images  Instances      Box(P          R      mAP50  mAP50-95): 100%|██████████| 4/4 [00:38<00:00,  9.59s/it]\n",
      "                   all        102        175      0.783       0.84      0.814      0.483\n",
      "\n",
      "      Epoch    GPU_mem   box_loss   cls_loss   dfl_loss  Instances       Size\n",
      "       3/10         0G   0.007127     0.7743       1.47         19        640: 100%|██████████| 75/75 [19:06<00:00, 15.28s/it]\n",
      "                 Class     Images  Instances      Box(P          R      mAP50  mAP50-95): 100%|██████████| 4/4 [00:34<00:00,  8.53s/it]\n",
      "                   all        102        175      0.763      0.774      0.804      0.468\n",
      "\n",
      "      Epoch    GPU_mem   box_loss   cls_loss   dfl_loss  Instances       Size\n",
      "       4/10         0G   0.007376      0.788      1.502         18        640: 100%|██████████| 75/75 [18:49<00:00, 15.06s/it]\n",
      "                 Class     Images  Instances      Box(P          R      mAP50  mAP50-95): 100%|██████████| 4/4 [00:33<00:00,  8.42s/it]\n",
      "                   all        102        175      0.778      0.769      0.801       0.45\n",
      "\n",
      "      Epoch    GPU_mem   box_loss   cls_loss   dfl_loss  Instances       Size\n",
      "       5/10         0G   0.007482     0.8258      1.504         17        640: 100%|██████████| 75/75 [19:09<00:00, 15.33s/it]\n",
      "                 Class     Images  Instances      Box(P          R      mAP50  mAP50-95): 100%|██████████| 4/4 [00:42<00:00, 10.68s/it]\n",
      "                   all        102        175      0.752      0.669      0.719      0.425\n",
      "\n",
      "      Epoch    GPU_mem   box_loss   cls_loss   dfl_loss  Instances       Size\n",
      "       6/10         0G   0.007078      0.774      1.471         24        640: 100%|██████████| 75/75 [21:46<00:00, 17.42s/it]\n",
      "                 Class     Images  Instances      Box(P          R      mAP50  mAP50-95): 100%|██████████| 4/4 [00:36<00:00,  9.01s/it]\n",
      "                   all        102        175      0.748      0.738       0.78      0.465\n",
      "\n",
      "      Epoch    GPU_mem   box_loss   cls_loss   dfl_loss  Instances       Size\n",
      "       7/10         0G   0.007066     0.7747      1.471         17        640: 100%|██████████| 75/75 [21:32<00:00, 17.24s/it]\n",
      "                 Class     Images  Instances      Box(P          R      mAP50  mAP50-95): 100%|██████████| 4/4 [00:35<00:00,  8.96s/it]\n",
      "                   all        102        175      0.749      0.751      0.786      0.461\n",
      "\n",
      "      Epoch    GPU_mem   box_loss   cls_loss   dfl_loss  Instances       Size\n",
      "       8/10         0G   0.007077     0.7591      1.479         36        640: 100%|██████████| 75/75 [21:11<00:00, 16.95s/it]\n",
      "                 Class     Images  Instances      Box(P          R      mAP50  mAP50-95): 100%|██████████| 4/4 [00:35<00:00,  8.77s/it]\n",
      "                   all        102        175      0.789      0.788      0.823      0.503\n",
      "\n",
      "      Epoch    GPU_mem   box_loss   cls_loss   dfl_loss  Instances       Size\n",
      "       9/10         0G   0.006884      0.697      1.456         24        640: 100%|██████████| 75/75 [21:12<00:00, 16.96s/it]\n",
      "                 Class     Images  Instances      Box(P          R      mAP50  mAP50-95): 100%|██████████| 4/4 [00:36<00:00,  9.22s/it]\n",
      "                   all        102        175      0.749      0.777      0.758      0.459\n",
      "\n",
      "      Epoch    GPU_mem   box_loss   cls_loss   dfl_loss  Instances       Size\n",
      "      10/10         0G   0.006854     0.6899      1.452         23        640: 100%|██████████| 75/75 [21:26<00:00, 17.16s/it]\n",
      "                 Class     Images  Instances      Box(P          R      mAP50  mAP50-95): 100%|██████████| 4/4 [00:35<00:00,  8.80s/it]\n",
      "                   all        102        175       0.77      0.787      0.773      0.478\n",
      "\n",
      "10 epochs completed in 3.513 hours.\n",
      "Optimizer stripped from runs/detect/train16/weights/last.pt, 22.5MB\n",
      "Optimizer stripped from runs/detect/train16/weights/best.pt, 22.5MB\n",
      "\n",
      "Validating runs/detect/train16/weights/best.pt...\n",
      "Ultralytics YOLOv8.0.59 🚀 Python-3.10.10 torch-2.0.0 CPU\n",
      "Model summary (fused): 168 layers, 11126358 parameters, 0 gradients, 28.4 GFLOPs\n",
      "                 Class     Images  Instances      Box(P          R      mAP50  mAP50-95): 100%|██████████| 4/4 [00:34<00:00,  8.63s/it]\n",
      "                   all        102        175      0.789      0.788      0.823      0.503\n",
      "                  crop        102         98      0.687      0.735       0.78      0.505\n",
      "                  weed        102         77       0.89      0.842      0.867        0.5\n",
      "Speed: 1.8ms preprocess, 331.8ms inference, 0.0ms loss, 0.3ms postprocess per image\n",
      "Results saved to \u001b[1mruns/detect/train16\u001b[0m\n"
     ]
    }
   ],
   "source": [
    "model = YOLO('runs/detect/train11/weights/best.pt')\n",
    "# train\n",
    "#results = model.train(data='temp_data/temp_data.yaml', epochs=20, save=True)\n",
    "#results = myTrain(model, data='temp_data/temp_data.yaml', hyp='temp_data/hyp.txt')\n",
    "results = myTrain(model, data='datasets/weed2/arguments.yaml', hyp='datasets/weed2/hyp.txt')\n",
    "# validate\n",
    "#results = model.val(data='datasets/random_dataset1/random_dataset1.yaml')\n",
    "# Perform object detection on an image using the model\n",
    "#results = model('https://ultralytics.com/images/bus.jpg')\n",
    "#res_plotted = results[0].plot()\n",
    "#cv2.imshow(\"result\", res_plotted)\n",
    "#cv2.waitKey(10000)\n"
   ]
  },
  {
   "cell_type": "code",
   "execution_count": null,
   "metadata": {},
   "outputs": [],
   "source": [
    "test_set = '/Users/xxd/Documents/Course/CS596E/YOLOv8/examples/weed/samples'\n",
    "save_dir = '/Users/xxd/Documents/Course/CS596E/YOLOv8/examples/weed/results'\n",
    "\n",
    "model = YOLO('runs/detect/train11/weights/best.pt')\n",
    "results = model.predict(source=test_set)"
   ]
  },
  {
   "cell_type": "code",
   "execution_count": 27,
   "metadata": {},
   "outputs": [],
   "source": [
    "# save results\n",
    "from PIL import Image\n",
    "import matplotlib.image\n",
    "for i, result in enumerate(results):\n",
    "    pf = os.path.join(save_dir, str(i) + '.png')\n",
    "    res_plotted = result.plot()\n",
    "    cv2.imwrite(pf, res_plotted)\n",
    "    #img = Image.fromarray(res_plotted)\n",
    "    #img.save(pf)"
   ]
  },
  {
   "cell_type": "code",
   "execution_count": 18,
   "metadata": {},
   "outputs": [
    {
     "name": "stderr",
     "output_type": "stream",
     "text": [
      "\n",
      "image 1/3 /Users/xxd/Documents/Course/CS596E/YOLOv8/datasets/random_dataset1/tests/test1.jpeg: 640x320 3 textbars, 105.8ms\n",
      "image 2/3 /Users/xxd/Documents/Course/CS596E/YOLOv8/datasets/random_dataset1/tests/test2.jpeg: 640x448 1 textbar, 149.6ms\n",
      "image 3/3 /Users/xxd/Documents/Course/CS596E/YOLOv8/datasets/random_dataset1/tests/test3.png: 640x384 1 textbar, 91.4ms\n",
      "Speed: 0.4ms preprocess, 115.6ms inference, 0.4ms postprocess per image at shape (1, 3, 640, 640)\n"
     ]
    },
    {
     "name": "stdout",
     "output_type": "stream",
     "text": [
      "ultralytics.yolo.engine.results.Boxes object with attributes:\n",
      "\n",
      "boxes: tensor([[3.5760e+00, 7.6294e+02, 8.2800e+02, 8.4519e+02, 7.1848e-01, 2.0000e+00],\n",
      "        [3.7520e+00, 2.2861e-01, 8.2800e+02, 5.0389e+01, 6.3324e-01, 2.0000e+00],\n",
      "        [1.0226e+00, 1.3535e+03, 8.2800e+02, 1.4552e+03, 2.6934e-01, 2.0000e+00]])\n",
      "cls: tensor([2., 2., 2.])\n",
      "conf: tensor([0.7185, 0.6332, 0.2693])\n",
      "data: tensor([[3.5760e+00, 7.6294e+02, 8.2800e+02, 8.4519e+02, 7.1848e-01, 2.0000e+00],\n",
      "        [3.7520e+00, 2.2861e-01, 8.2800e+02, 5.0389e+01, 6.3324e-01, 2.0000e+00],\n",
      "        [1.0226e+00, 1.3535e+03, 8.2800e+02, 1.4552e+03, 2.6934e-01, 2.0000e+00]])\n",
      "id: None\n",
      "is_track: False\n",
      "orig_shape: tensor([1792,  828])\n",
      "shape: torch.Size([3, 6])\n",
      "xywh: tensor([[ 415.7880,  804.0693,  824.4241,   82.2510],\n",
      "        [ 415.8760,   25.3091,  824.2480,   50.1609],\n",
      "        [ 414.5113, 1404.3357,  826.9774,  101.6427]])\n",
      "xywhn: tensor([[0.5022, 0.4487, 0.9957, 0.0459],\n",
      "        [0.5023, 0.0141, 0.9955, 0.0280],\n",
      "        [0.5006, 0.7837, 0.9988, 0.0567]])\n",
      "xyxy: tensor([[3.5760e+00, 7.6294e+02, 8.2800e+02, 8.4519e+02],\n",
      "        [3.7520e+00, 2.2861e-01, 8.2800e+02, 5.0389e+01],\n",
      "        [1.0226e+00, 1.3535e+03, 8.2800e+02, 1.4552e+03]])\n",
      "xyxyn: tensor([[4.3188e-03, 4.2575e-01, 1.0000e+00, 4.7165e-01],\n",
      "        [4.5314e-03, 1.2757e-04, 1.0000e+00, 2.8119e-02],\n",
      "        [1.2350e-03, 7.5531e-01, 1.0000e+00, 8.1203e-01]])\n"
     ]
    }
   ],
   "source": [
    "model = YOLO('runs/detect/train3/weights/best.pt')\n",
    "results = model(source='/Users/xxd/Documents/Course/CS596E/YOLOv8/datasets/random_dataset1/tests/')\n",
    "res_plotted = results[0].plot()\n",
    "print(results[0].boxes)\n",
    "#cv2.imshow(\"result\", res_plotted)\n",
    "#cv2.waitKey(10000)"
   ]
  },
  {
   "cell_type": "code",
   "execution_count": 95,
   "metadata": {},
   "outputs": [
    {
     "name": "stderr",
     "output_type": "stream",
     "text": [
      "\n",
      "Found https://media.roboflow.com/notebooks/examples/dog.jpeg locally at dog.jpeg\n",
      "image 1/1 /Users/xxd/Documents/Course/CS596E/YOLOv8/dog.jpeg: 640x384 (no detections), 164.8ms\n",
      "Speed: 40.9ms preprocess, 164.8ms inference, 8.8ms postprocess per image at shape (1, 3, 640, 640)\n",
      "Ultralytics YOLOv8.0.59 🚀 Python-3.10.10 torch-2.0.0 CPU\n",
      "\u001b[34m\u001b[1mval: \u001b[0mScanning /Users/xxd/Documents/Course/CS596E/YOLOv8/datasets/temp_data/labels/val.cache... 88 images, 0 backgrounds, 0 corrupt: 100%|██████████| 88/88 [00:00<?, ?it/s]\n",
      "                 Class     Images  Instances      Box(P          R      mAP50  mAP50-95): 100%|██████████| 6/6 [00:12<00:00,  2.08s/it]\n",
      "                   all         88        132      0.928      0.888      0.938      0.771\n",
      "          trafficlight         88         19      0.822      0.737      0.802      0.509\n",
      "                  stop         88         10      0.953        0.9      0.972      0.883\n",
      "            speedlimit         88         81      0.985          1      0.995      0.901\n",
      "             crosswalk         88         22      0.953      0.914      0.983       0.79\n",
      "Speed: 1.2ms preprocess, 132.9ms inference, 0.0ms loss, 0.3ms postprocess per image\n",
      "Results saved to \u001b[1mruns/detect/val4\u001b[0m\n"
     ]
    },
    {
     "data": {
      "text/plain": [
       "ultralytics.yolo.utils.metrics.DetMetrics object with attributes:\n",
       "\n",
       "ap_class_index: array([0, 1, 2, 3])\n",
       "box: ultralytics.yolo.utils.metrics.Metric object\n",
       "confusion_matrix: <ultralytics.yolo.utils.metrics.ConfusionMatrix object at 0x12477b2e0>\n",
       "fitness: 0.7874004571307239\n",
       "keys: ['metrics/precision(B)', 'metrics/recall(B)', 'metrics/mAP50(B)', 'metrics/mAP50-95(B)']\n",
       "maps: array([    0.50873,     0.88328,     0.90071,     0.78991])\n",
       "names: {0: 'trafficlight', 1: 'stop', 2: 'speedlimit', 3: 'crosswalk'}\n",
       "plot: True\n",
       "results_dict: {'metrics/precision(B)': 0.928441805668051, 'metrics/recall(B)': 0.8876650045370222, 'metrics/mAP50(B)': 0.9380756417707901, 'metrics/mAP50-95(B)': 0.7706587699484944, 'fitness': 0.7874004571307239}\n",
       "save_dir: PosixPath('runs/detect/val4')\n",
       "speed: {'preprocess': 1.17575851353732, 'inference': 132.88199088790202, 'loss': 0.0007179650393399324, 'postprocess': 0.27259642427617853}"
      ]
     },
     "execution_count": 95,
     "metadata": {},
     "output_type": "execute_result"
    }
   ],
   "source": [
    "\"\"\" #model = YOLO('yolov8n.pt')\n",
    "model.predict(\n",
    "   source='https://media.roboflow.com/notebooks/examples/dog.jpeg',\n",
    "   conf=0.255000\n",
    ")\n",
    "model.val(data='temp_data/temp_data.yaml') \"\"\""
   ]
  }
 ],
 "metadata": {
  "kernelspec": {
   "display_name": "Python 3",
   "language": "python",
   "name": "python3"
  },
  "language_info": {
   "codemirror_mode": {
    "name": "ipython",
    "version": 3
   },
   "file_extension": ".py",
   "mimetype": "text/x-python",
   "name": "python",
   "nbconvert_exporter": "python",
   "pygments_lexer": "ipython3",
   "version": "3.10.10"
  },
  "orig_nbformat": 4,
  "vscode": {
   "interpreter": {
    "hash": "d52ca74710e1134f80a6ecd73bcd1d0bffc2dd65bb7b82405303a70bd99d9de8"
   }
  }
 },
 "nbformat": 4,
 "nbformat_minor": 2
}
